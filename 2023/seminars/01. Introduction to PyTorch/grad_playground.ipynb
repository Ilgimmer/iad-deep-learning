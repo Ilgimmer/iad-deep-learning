{
 "cells": [
  {
   "cell_type": "code",
   "execution_count": 2,
   "metadata": {},
   "outputs": [],
   "source": [
    "import numpy as np\n",
    "import torch"
   ]
  },
  {
   "cell_type": "markdown",
   "metadata": {},
   "source": [
    "Посчитаем с помощью pytorch производные простых функций:"
   ]
  },
  {
   "cell_type": "markdown",
   "metadata": {},
   "source": [
    "$$y = ax + b$$\n",
    "\n",
    "$$y'_x = a$$"
   ]
  },
  {
   "cell_type": "code",
   "execution_count": 3,
   "metadata": {},
   "outputs": [],
   "source": [
    "x = torch.tensor(5.0, requires_grad=True)\n",
    "assert x.grad is None"
   ]
  },
  {
   "cell_type": "code",
   "execution_count": 4,
   "metadata": {},
   "outputs": [
    {
     "name": "stdout",
     "output_type": "stream",
     "text": [
      "x.grad = None\n"
     ]
    }
   ],
   "source": [
    "y = 10 * x - 1\n",
    "print(f\"{x.grad = }\")"
   ]
  },
  {
   "cell_type": "code",
   "execution_count": 5,
   "metadata": {},
   "outputs": [
    {
     "name": "stdout",
     "output_type": "stream",
     "text": [
      "x.grad = tensor(10.)\n"
     ]
    }
   ],
   "source": [
    "y.backward()\n",
    "print(f\"{x.grad = }\")"
   ]
  },
  {
   "cell_type": "markdown",
   "metadata": {},
   "source": [
    "$$y = \\sin(x)$$\n",
    "\n",
    "$$y' = \\cos(x)$$"
   ]
  },
  {
   "cell_type": "code",
   "execution_count": 7,
   "metadata": {},
   "outputs": [
    {
     "name": "stdout",
     "output_type": "stream",
     "text": [
      "x.grad = tensor(-1.)\n"
     ]
    }
   ],
   "source": [
    "x = torch.tensor(np.pi, requires_grad=True)\n",
    "y = torch.sin(x)\n",
    "y.backward()\n",
    "\n",
    "print(f\"{x.grad = }\")"
   ]
  },
  {
   "cell_type": "markdown",
   "metadata": {},
   "source": [
    "$$y = \\ln(x)$$\n",
    "\n",
    "$$y' = \\frac{1}{x}$$"
   ]
  },
  {
   "cell_type": "code",
   "execution_count": 8,
   "metadata": {},
   "outputs": [
    {
     "name": "stdout",
     "output_type": "stream",
     "text": [
      "x.grad = tensor(0.1000)\n"
     ]
    }
   ],
   "source": [
    "x = torch.tensor(10.0, requires_grad=True)\n",
    "y = torch.log(x)\n",
    "y.backward()\n",
    "\n",
    "print(f\"{x.grad = }\")"
   ]
  },
  {
   "cell_type": "markdown",
   "metadata": {},
   "source": [
    "Попробуем посчитать такой же градиент еще раз:\n",
    "\n",
    "<!-- x.grad.zero_() -->"
   ]
  },
  {
   "cell_type": "code",
   "execution_count": 20,
   "metadata": {},
   "outputs": [
    {
     "name": "stdout",
     "output_type": "stream",
     "text": [
      "x.grad = tensor(0.1000)\n"
     ]
    }
   ],
   "source": [
    "x.grad.zero_()\n",
    "y = torch.log(x)\n",
    "y.backward()\n",
    "\n",
    "print(f\"{x.grad = }\")"
   ]
  },
  {
   "cell_type": "markdown",
   "metadata": {},
   "source": [
    "Вывод: не забываем на каждом шаге градиентного спуска обнулять градиенты наших параметров."
   ]
  },
  {
   "cell_type": "markdown",
   "metadata": {},
   "source": [
    "$$y = \\exp(- \\frac{x^2 - x + 1}{\\cos^2 ( \\ln x)})$$\n",
    "\n",
    "$$y' = 😉$$"
   ]
  },
  {
   "cell_type": "code",
   "execution_count": 21,
   "metadata": {},
   "outputs": [
    {
     "name": "stdout",
     "output_type": "stream",
     "text": [
      "x.grad = tensor(-0.3679)\n"
     ]
    }
   ],
   "source": [
    "x = torch.tensor(1.0, requires_grad=True)\n",
    "\n",
    "numerator = x ** 2 - x + 1\n",
    "denominator = torch.cos( torch.log(x) ) ** 2\n",
    "fraction = numerator / denominator\n",
    "y = torch.exp(-fraction)\n",
    "y.backward()\n",
    "\n",
    "print(f\"{x.grad = }\")"
   ]
  },
  {
   "cell_type": "markdown",
   "metadata": {},
   "source": [
    "$$y = 2x_1 + 3x_2$$\n",
    "\n",
    "$$\\frac{\\partial}{\\partial x_1}y = 2$$\n",
    "$$\\frac{\\partial}{\\partial x_2}y = 3$$"
   ]
  },
  {
   "cell_type": "code",
   "execution_count": 22,
   "metadata": {},
   "outputs": [
    {
     "name": "stdout",
     "output_type": "stream",
     "text": [
      "x.grad = tensor([2., 3.])\n"
     ]
    }
   ],
   "source": [
    "x = torch.tensor([10.0, -10.0], requires_grad=True)\n",
    "y = torch.dot(\n",
    "    x,\n",
    "    torch.tensor([2.0, 3.0])\n",
    ")\n",
    "y.backward()\n",
    "\n",
    "print(f\"{x.grad = }\")"
   ]
  },
  {
   "cell_type": "markdown",
   "metadata": {},
   "source": [
    "Посчитаем градиент для линейной регресии и квадратичной функции потерь:\n",
    "\n",
    "$$x=(3, 5)\\quad y = 100\\quad w=(10, 10)$$\n",
    "$$a(x, w) = x_1 w_1 + x_2 w_2$$\n",
    "$$Q(w) = \\Big ( a(x, w) - y \\Big )^ 2 = \\Big ( x_1 w_1 + x_2 w_2 - y \\Big )^ 2$$\n",
    "\n",
    "$$\\frac{\\partial}{\\partial w_1} Q = 2x_1\\Big ( x_1 w_1 + x_2 w_2 - y \\Big ) = -120$$\n",
    "$$\\frac{\\partial}{\\partial w_2} Q = 2x_2\\Big ( x_1 w_1 + x_2 w_2 - y \\Big ) = -200$$"
   ]
  },
  {
   "cell_type": "code",
   "execution_count": 23,
   "metadata": {},
   "outputs": [
    {
     "name": "stdout",
     "output_type": "stream",
     "text": [
      "w.grad = tensor([-120., -200.])\n"
     ]
    }
   ],
   "source": [
    "w = torch.tensor([10.0, 10.0], requires_grad=True)\n",
    "x = [3.0, 5.0]\n",
    "y = 100\n",
    "a = torch.dot(\n",
    "    w,\n",
    "    torch.tensor(x)\n",
    ")\n",
    "Q = (y - a) ** 2\n",
    "Q.backward()\n",
    "\n",
    "print(f\"{w.grad = }\")"
   ]
  },
  {
   "cell_type": "markdown",
   "metadata": {},
   "source": [
    "Таким образом, в атрибуте `grad` лежит градиент (вектор из производных) тензора, у которого применили метод `backward()` по элементам данного тензора."
   ]
  }
 ],
 "metadata": {
  "kernelspec": {
   "display_name": "intro-dl",
   "language": "python",
   "name": "python3"
  },
  "language_info": {
   "codemirror_mode": {
    "name": "ipython",
    "version": 3
   },
   "file_extension": ".py",
   "mimetype": "text/x-python",
   "name": "python",
   "nbconvert_exporter": "python",
   "pygments_lexer": "ipython3",
   "version": "3.10.12"
  },
  "orig_nbformat": 4
 },
 "nbformat": 4,
 "nbformat_minor": 2
}
