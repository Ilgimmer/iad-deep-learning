{
 "cells": [
  {
   "cell_type": "markdown",
   "id": "78e29995",
   "metadata": {},
   "source": [
    "# Семинар 2: Свертка изображений\n",
    "\n",
    "## Вступление\n",
    "На ближайших семинарах мы научимся решать некоторые задачи компьютерного зрения при помощи нейронных сетей. Основной инструмент работы в этой области — свёртки. С ними мы сегодня и познакомимся.\n",
    "\n",
    "### План семинара\n",
    "1. Учимся работать с картинками средствами **Python**, **NumPy** и **PyTorch**\n",
    "2. Применяем константные свёртки к изображениям\n",
    "3. Сравниваем работу полносвязных и свёрточных сетей на датасете MNIST\n"
   ]
  },
  {
   "cell_type": "code",
   "execution_count": null,
   "id": "153eecb4",
   "metadata": {},
   "outputs": [],
   "source": [
    "import warnings\n",
    "\n",
    "import matplotlib.pyplot as plt\n",
    "import numpy as np\n",
    "from matplotlib import cm\n",
    "from tqdm.auto import tqdm\n",
    "\n",
    "warnings.filterwarnings(\"ignore\")\n",
    "%matplotlib inline"
   ]
  },
  {
   "cell_type": "markdown",
   "id": "c97313b8",
   "metadata": {},
   "source": [
    "## 1. Учимся работать с картинками средствами **Python**, **NumPy** и **PyTorch**\n",
    "\n",
    "### Загружаем изображение с диска"
   ]
  },
  {
   "cell_type": "code",
   "execution_count": null,
   "id": "215d1e08",
   "metadata": {
    "collapsed": false
   },
   "outputs": [],
   "source": [
    "# при работе в колабе, скачайте изображение этой командой\n",
    "# !wget https://raw.githubusercontent.com/hushchyn-mikhail/CourseraDL/main/cnn/screencast_1/butterfly.jpg"
   ]
  },
  {
   "cell_type": "code",
   "execution_count": null,
   "id": "153bb5ea",
   "metadata": {},
   "outputs": [],
   "source": [
    "# !pip install Pillow\n",
    "from PIL import Image\n",
    "\n",
    "img = Image.open(\"static/butterfly.jpg\")\n",
    "print(f\"Image format: {img.format}; shape: {img.size}; color scheme: {img.mode}\")\n",
    "img"
   ]
  },
  {
   "cell_type": "markdown",
   "id": "fdb6f33a",
   "metadata": {},
   "source": [
    "### Матричное представление изображения\n",
    "\n",
    "Мы знаем, что цветное изображение состоит из 3 числовых матриц или трехмерного тензора. Каждая матрица соответствует одному из 3 базовых цветов: красному, зеленому и синему."
   ]
  },
  {
   "cell_type": "code",
   "execution_count": null,
   "id": "09d89cf1",
   "metadata": {},
   "outputs": [],
   "source": [
    "# преобразуем изображение в массив\n",
    "img_matrix = np.array(img)\n",
    "\n",
    "# (высота, ширина, число каналов)\n",
    "print(f\"Image array shape: {img_matrix.shape}\")\n",
    "\n",
    "plt.imshow(img_matrix)\n",
    "plt.show()"
   ]
  },
  {
   "cell_type": "code",
   "execution_count": null,
   "id": "71b0594a",
   "metadata": {},
   "outputs": [],
   "source": [
    "# посмотрим на все каналы изображения отдельно\n",
    "plt.imshow(img_matrix[:, :, 0], cmap=cm.Reds)\n",
    "plt.show()\n",
    "\n",
    "plt.imshow(img_matrix[:, :, 1], cmap=cm.Greens)\n",
    "plt.show()\n",
    "\n",
    "plt.imshow(img_matrix[:, :, 2], cmap=cm.Blues)\n",
    "plt.show()"
   ]
  },
  {
   "cell_type": "markdown",
   "id": "a7e06143",
   "metadata": {},
   "source": [
    "## 2. Применяем константные свёртки к изображениям"
   ]
  },
  {
   "cell_type": "markdown",
   "id": "699842f0",
   "metadata": {},
   "source": [
    "### Класс torch.nn.Conv2d"
   ]
  },
  {
   "cell_type": "code",
   "execution_count": null,
   "id": "ab5bc309",
   "metadata": {},
   "outputs": [],
   "source": [
    "import torch.nn as nn\n",
    "\n",
    "nn.Conv2d"
   ]
  },
  {
   "cell_type": "markdown",
   "id": "43237c8b",
   "metadata": {},
   "source": [
    "В **PyTorch** свёрточный слой представлен в модуле `torch.nn` классом [`Conv2d`](https://pytorch.org/docs/stable/generated/torch.nn.Conv2d.html) с параметрами:\n",
    "- `in_channels`: количество входных каналов \n",
    "- `out_channels`: количество выходных каналов \n",
    "- `kernel_size`: размер ядра \n",
    "- `stride`: шаг \n",
    "- `padding`: паддинг \n",
    "- `padding_mode`: режим паддинга  (`'zeros'`, `'reflect'` и др.)\n",
    "- `dilation`: растяжение "
   ]
  },
  {
   "cell_type": "markdown",
   "id": "13a6d058",
   "metadata": {},
   "source": [
    "#### `kernel_size`\n",
    "\n",
    "**Размер ядра**. `int`, если ядро квадратное и кортеж из двух чисел, если ядро прямоугольное. Задает размер фильтра, с которым производится свёртка изображения.\n",
    "\n",
    "**`kernel_size=3`**\n",
    "\n",
    "![no_padding_no_strides.gif](static/no_padding_no_strides.gif)\n",
    "\n",
    "Эта и следующие анимации взяты [здесь](https://github.com/vdumoulin/conv_arithmetic)."
   ]
  },
  {
   "cell_type": "markdown",
   "id": "456a9c00",
   "metadata": {},
   "source": [
    "#### `stride`\n",
    "\n",
    "**Шаг**. Задает шаг, в пикселях, на который сдвигается фильтр. `int`, если по горизонтали и вертикали сдвигается на одно и то же число. Кортеж из двух чисел, если сдвиги разные.\n",
    "\n",
    "**`stride=2`**\n",
    "\n",
    "![no_padding_strides.gif](static/no_padding_strides.gif)"
   ]
  },
  {
   "cell_type": "markdown",
   "id": "976a0b2f",
   "metadata": {},
   "source": [
    "#### `padding`\n",
    "\n",
    "**Паддинг**. Количество пикселей, которыми дополняется изображение. Аналогично шагу и размеру ядра, может быть, как `int`, так и кортежем из двух чисел.\n",
    "\n",
    "**`padding=1`**\n",
    "\n",
    "![same_padding_no_strides.gif](static/same_padding_no_strides.gif)"
   ]
  },
  {
   "cell_type": "markdown",
   "id": "62265339",
   "metadata": {},
   "source": [
    "### Свёртка изображений\n",
    "\n",
    "Чем может быть полезна свертка при работе с изображениями? Свертки детектируют **паттерны на картинках** – цвета и сочетания цветов, небольшие объекты. Обычно значения свертки являются обучаемыми параметрами нейрости. Однако существуют \"готовые\" свертки, настроенные на определенные паттерны.\n",
    "\n",
    "Например, оператор Собеля (свертка с определенными параметрами) используется для детекции границ на изображении. Применим этот оператор. Для этого пока не будем пользоваться классом `torch.nn.Conv2d`, а возьмём соответствующую функцию из модуля `torch.nn.functional`. "
   ]
  },
  {
   "cell_type": "code",
   "execution_count": null,
   "id": "a62221b7",
   "metadata": {},
   "outputs": [],
   "source": [
    "import torch\n",
    "\n",
    "# В этом модуле примерно все те же самые операторы, что и в `torch.nn`,\n",
    "# но только представлениы они не в виде классов, а виде функций.\n",
    "from torch.nn.functional import conv2d"
   ]
  },
  {
   "cell_type": "markdown",
   "id": "193f0fad",
   "metadata": {},
   "source": [
    "Конвертируем изображение в тензор и переставим размерности в порядке `(batch_size, n_channels, height, width)`, который принят в **PyTorch**."
   ]
  },
  {
   "cell_type": "code",
   "execution_count": null,
   "id": "6841bc7b",
   "metadata": {
    "collapsed": false
   },
   "outputs": [],
   "source": [
    "img_matrix.shape"
   ]
  },
  {
   "cell_type": "code",
   "execution_count": null,
   "id": "efad711f",
   "metadata": {},
   "outputs": [],
   "source": [
    "img_tensor = torch.tensor(img_matrix, dtype=torch.float)\n",
    "img_tensor = img_tensor.permute(2, 0, 1).unsqueeze(0)\n",
    "img_tensor.size()"
   ]
  },
  {
   "cell_type": "markdown",
   "id": "d36104d2",
   "metadata": {},
   "source": [
    "Зададим оператор Собеля для детектирования горизонтальных границ"
   ]
  },
  {
   "cell_type": "code",
   "execution_count": null,
   "id": "0c429583",
   "metadata": {},
   "outputs": [],
   "source": [
    "sobel_hor = [\n",
    "    [-1, -2, -1], \n",
    "    [0, 0, 0], \n",
    "    [1, 2, 1]\n",
    "]\n",
    "\n",
    "# одна матрица на каждый канал картинки\n",
    "kernel = [[sobel_hor, sobel_hor, sobel_hor]]\n",
    "kernel = torch.tensor(kernel, dtype=torch.float)\n",
    "kernel.size()"
   ]
  },
  {
   "cell_type": "code",
   "execution_count": null,
   "id": "62117ff2",
   "metadata": {},
   "outputs": [],
   "source": [
    "# свернём картинку с подготовленным ядром свёртки\n",
    "img_conv_hor = conv2d(img_tensor, kernel)\n",
    "img_conv_hor = img_conv_hor.permute(0, 2, 3, 1)\n",
    "img_conv_hor.size()"
   ]
  },
  {
   "cell_type": "code",
   "execution_count": null,
   "id": "a826a692",
   "metadata": {},
   "outputs": [],
   "source": [
    "plt.figure(figsize=(1.5 * 7, 1.5 * 4))\n",
    "plt.imshow(torch.abs(img_conv_hor[0, :, :, 0]))\n",
    "plt.show()"
   ]
  },
  {
   "cell_type": "markdown",
   "id": "0b4c50bb",
   "metadata": {},
   "source": [
    "Проделаем то же самое для детектирования вертикальных границ"
   ]
  },
  {
   "cell_type": "code",
   "execution_count": null,
   "id": "f67e7d8c",
   "metadata": {},
   "outputs": [],
   "source": [
    "sobel_ver = [\n",
    "    [-1, 0, 1], \n",
    "    [-2, 0, 2], \n",
    "    [-1, 0, 1]\n",
    "]\n",
    "\n",
    "# одна матрица на каждый канал картинки\n",
    "kernel = [[sobel_ver, sobel_ver, sobel_ver]]\n",
    "kernel = torch.tensor(kernel, dtype=torch.float)\n",
    "\n",
    "img_conv_ver = conv2d(img_tensor, kernel)\n",
    "\n",
    "img_conv_ver = img_conv_ver.permute(0, 2, 3, 1)\n",
    "img_conv_ver.size()"
   ]
  },
  {
   "cell_type": "code",
   "execution_count": null,
   "id": "a67dd2e8",
   "metadata": {},
   "outputs": [],
   "source": [
    "plt.figure(figsize=(1.5 * 7, 1.5 * 4))\n",
    "plt.imshow(torch.abs(img_conv_ver[0, :, :, 0]))\n",
    "plt.show()"
   ]
  },
  {
   "cell_type": "markdown",
   "id": "e95c7c6d",
   "metadata": {},
   "source": [
    "Объединим два изображения"
   ]
  },
  {
   "cell_type": "code",
   "execution_count": null,
   "id": "49e5f8ff",
   "metadata": {},
   "outputs": [],
   "source": [
    "img_conv = torch.sqrt(img_conv_ver**2 + img_conv_hor**2)\n",
    "\n",
    "plt.figure(figsize=(1.5 * 7, 1.5 * 4))\n",
    "plt.imshow(img_conv[0, :, :, 0])\n",
    "plt.show()"
   ]
  },
  {
   "cell_type": "markdown",
   "id": "afec97c0",
   "metadata": {},
   "source": [
    "### Задание 1\n",
    "По аналогии с примером выше, сверните изображение со случайным ядром такого же размера."
   ]
  },
  {
   "cell_type": "code",
   "execution_count": null,
   "id": "5ec8a3a8",
   "metadata": {},
   "outputs": [],
   "source": [
    "### YOUR CODE HERE\n",
    "img_conv_random = ...\n",
    "\n",
    "# рисуем результат\n",
    "plt.figure(figsize=(1.5 * 7, 1.5 * 4))\n",
    "plt.imshow(torch.abs(img_conv_random[0, :, :, 0]))\n",
    "plt.show()"
   ]
  },
  {
   "cell_type": "markdown",
   "id": "7964c0c7",
   "metadata": {},
   "source": [
    "### Сравниваем работу полносвязных и свёрточных сетей на датасете MNIST\n",
    "\n",
    "Сначала решим задачу классификации изображений полносвязной нейронной сетью из прошлого семинара."
   ]
  },
  {
   "cell_type": "code",
   "execution_count": null,
   "id": "c23eb1fc",
   "metadata": {},
   "outputs": [],
   "source": [
    "import torch.nn.functional as F\n",
    "import torchvision\n",
    "from torch import nn"
   ]
  },
  {
   "cell_type": "markdown",
   "id": "968fc94f",
   "metadata": {},
   "source": [
    "Скачаем и подготовим уже знакомые нам данные для классификации."
   ]
  },
  {
   "cell_type": "code",
   "execution_count": null,
   "id": "a68c1163",
   "metadata": {},
   "outputs": [],
   "source": [
    "from torch.utils.data import DataLoader\n",
    "from torchvision.datasets import MNIST"
   ]
  },
  {
   "cell_type": "code",
   "execution_count": null,
   "id": "3ab011ba",
   "metadata": {},
   "outputs": [],
   "source": [
    "transform = torchvision.transforms.Compose(\n",
    "    [\n",
    "        torchvision.transforms.ToTensor(),\n",
    "        torchvision.transforms.Normalize((0.1307,), (0.3081,)),\n",
    "    ]\n",
    ")\n",
    "\n",
    "mnist_train = MNIST(\n",
    "    \"./mnist/\", train=True, download=True, transform=transform\n",
    ")\n",
    "mnist_val = MNIST(\n",
    "    \"./mnist/\", train=False, download=True, transform=transform\n",
    ")\n",
    "\n",
    "\n",
    "train_dataloader = DataLoader(mnist_train, batch_size=64, shuffle=True)\n",
    "val_dataloader = DataLoader(mnist_val, batch_size=64, shuffle=False)"
   ]
  },
  {
   "cell_type": "markdown",
   "id": "a1155fff",
   "metadata": {
    "collapsed": false
   },
   "source": [
    "Подготовим цикл обучения."
   ]
  },
  {
   "cell_type": "code",
   "execution_count": null,
   "id": "99abcfe9",
   "metadata": {},
   "outputs": [],
   "source": [
    "def train(model, optimizer, n_epochs=5, wandb_project=None):\n",
    "    \"\"\"Функция, в которой проходит обучение нейросети.\n",
    "\n",
    "    Parameters\n",
    "    ----------\n",
    "    model : nn.Module\n",
    "        Нейросеть для обучения.\n",
    "    optimizer : torch.optim.Optimizer\n",
    "        Алгоритм оптимизации гиперпараметров (например, SGD)\n",
    "    n_epochs : int, default 5\n",
    "        Количество эпох для обучения нейросети. Эпоха – проход по объектам\n",
    "        датасета алгоритмом оптимизации с обновлением гиперпараметров.\n",
    "    wandb_project : str, default None\n",
    "        Название проекта в wandb для логирования процесса обучения\n",
    "        (опционально).\n",
    "    \"\"\"\n",
    "    # подключаем wandb\n",
    "    if wandb_project:\n",
    "        import wandb\n",
    "        wandb.init(project=wandb_project)\n",
    "        wandb.watch(model)\n",
    "\n",
    "    for epoch in range(n_epochs):\n",
    "        # тренировка\n",
    "        for x_train, y_train in tqdm(train_dataloader):\n",
    "            y_pred = model(x_train)\n",
    "            loss = F.cross_entropy(y_pred, y_train)\n",
    "            loss.backward()\n",
    "            optimizer.step()\n",
    "            optimizer.zero_grad()\n",
    "\n",
    "        # валидация\n",
    "        if epoch % 2 == 0:\n",
    "            val_loss = []\n",
    "            val_accuracy = []\n",
    "\n",
    "            # отключается весь функционал расчета градиентов\n",
    "            with torch.no_grad():\n",
    "                for x_val, y_val in tqdm(val_dataloader):\n",
    "                    y_pred = model(x_val)\n",
    "                    loss = F.cross_entropy(y_pred, y_val)\n",
    "                    val_loss.append(loss.numpy())\n",
    "                    val_accuracy.extend(\n",
    "                        (torch.argmax(y_pred, dim=-1) == y_val).numpy().tolist()\n",
    "                    )\n",
    "\n",
    "            if wandb_project:\n",
    "                wandb.log(\n",
    "                    {\"mean val loss\": np.mean(val_loss),\n",
    "                     \"mean val accuracy\": np.mean(val_accuracy)}\n",
    "                )\n",
    "\n",
    "            # печатаем метрики\n",
    "            print(\n",
    "                f\"Epoch: {epoch}, loss: {np.mean(val_loss)}, accuracy: {np.mean(val_accuracy)}\"\n",
    "            )"
   ]
  },
  {
   "cell_type": "markdown",
   "id": "e1c9610a",
   "metadata": {
    "collapsed": false
   },
   "source": [
    "Обучим полносвязную архитектуру."
   ]
  },
  {
   "cell_type": "code",
   "execution_count": null,
   "id": "24b92372",
   "metadata": {
    "scrolled": false
   },
   "outputs": [],
   "source": [
    "model = nn.Sequential(\n",
    "    nn.Flatten(),  # превращаем картинку 28х28 в вектор размером 784\n",
    "    nn.Linear(\n",
    "        28 * 28, 128\n",
    "    ),  # линейный слой, преобразующий вектор размера 784 в вектор размера 128\n",
    "    nn.ReLU(),  # нелинейность\n",
    "    nn.Linear(\n",
    "        128, 10\n",
    "    ),  # линейный слой, преобразующий вектор размера 128 в вектор размера 10\n",
    ")\n",
    "\n",
    "optimizer = torch.optim.SGD(\n",
    "    model.parameters(), lr=0.01\n",
    ")  # создаем оптимизатор и передаем туда параметры модели"
   ]
  },
  {
   "cell_type": "code",
   "execution_count": null,
   "id": "ac585a8b",
   "metadata": {
    "collapsed": false
   },
   "outputs": [],
   "source": [
    "print(\n",
    "    f\"Training model with {sum([x[1].numel() for x in model.named_parameters()])} parameters\"\n",
    ")\n",
    "train(model, optimizer, wandb_project=None)"
   ]
  },
  {
   "cell_type": "markdown",
   "id": "9ef3b855",
   "metadata": {},
   "source": [
    "Изменим архитектуру, добавив в неё свёрточные слои."
   ]
  },
  {
   "cell_type": "code",
   "execution_count": null,
   "id": "5af53ba6",
   "metadata": {},
   "outputs": [],
   "source": [
    "model = nn.Sequential(\n",
    "    nn.Conv2d(\n",
    "        in_channels=1, out_channels=10, kernel_size=5\n",
    "    ),  # добавим свёрточный слой с 10 ядрами\n",
    "    nn.ReLU(),\n",
    "    nn.MaxPool2d(kernel_size=4),  # уменьшим картинку в 4 раза по каждой стороне\n",
    "    nn.Flatten(),  # превращаем картинку 6х6х10 в вектор размером 360\n",
    "    nn.Linear(\n",
    "        6 * 6 * 10, 128\n",
    "    ),  # линейный слой, преобразующий вектор размера 360 в вектор размера 128\n",
    "    nn.ReLU(),  # нелинейность\n",
    "    nn.Linear(\n",
    "        128, 10\n",
    "    ),  # отображение в пространство размерности числа меток классификации\n",
    ")\n",
    "\n",
    "optimizer = torch.optim.SGD(model.parameters(), lr=0.01)"
   ]
  },
  {
   "cell_type": "code",
   "execution_count": null,
   "id": "4581f5d9",
   "metadata": {
    "collapsed": false
   },
   "outputs": [],
   "source": [
    "print(\n",
    "    f\"Training model with {sum([x[1].numel() for x in model.named_parameters()])} parameters\"\n",
    ")\n",
    "train(model, optimizer, wandb_project=None)"
   ]
  },
  {
   "cell_type": "markdown",
   "id": "6e12b759",
   "metadata": {},
   "source": [
    "### Задание 2\n",
    "\n",
    "По аналогии с предыдущим примером, обучите нейронную сеть, у которой будут следующие слои:\n",
    "\n",
    "- Свёрточный слой с 10 ядрами размером 5\n",
    "- Функция активации ReLU\n",
    "- Уменьшить картинку в 2 раза (по каждому измерению)\n",
    "- Свёрточный слой с 20 ядрами размером 5\n",
    "- Функция активации ReLU\n",
    "- Уменьшить картинку в 2 раза (по каждому измерению)\n",
    "- Полносвязный слой со 128 нейронами\n",
    "- Функция активации ReLU\n",
    "- Выходной слой\n",
    "\n",
    "Напишите решение двумя способами:\n",
    " - с помощью класса `nn.Sequential`\n",
    " - в виде наследника класса `torch.nn.Module`"
   ]
  },
  {
   "cell_type": "code",
   "execution_count": null,
   "id": "c6c0d462",
   "metadata": {},
   "outputs": [],
   "source": [
    "# 1-й способ\n",
    "model = nn.Sequential(\n",
    "    ### YOUR CODE HERE\n",
    ")"
   ]
  },
  {
   "cell_type": "code",
   "execution_count": null,
   "id": "d6dc2db3",
   "metadata": {},
   "outputs": [],
   "source": [
    "# 2-й способ\n",
    "class ConvNetMNIST(nn.Module):\n",
    "\n",
    "    def __init__(self):\n",
    "        \"\"\"Создание объекта класса. Через дополнительные аргументы можно\n",
    "        изменять параметры слоев сети.\"\"\"\n",
    "        # инициализируем родителя\n",
    "        super().__init__()\n",
    "\n",
    "        # записываем в атрибуты составные части сети\n",
    "        ### YOUR CODE HERE\n",
    "\n",
    "    def forward(self, x : torch.tensor) -> torch.tensor:\n",
    "        \"\"\"Прямой проход по нейронной сети. Вычисление предсказаний.\"\"\"\n",
    "        ### YOUR CODE HERE\n",
    "        pred = ...\n",
    "\n",
    "        return pred\n",
    "    \n",
    "model = ConvNetMNIST()\n"
   ]
  },
  {
   "cell_type": "markdown",
   "id": "7f361184",
   "metadata": {},
   "source": [
    "Код, написанный первым способом, более краткий и легче читается. Однако не все архитектуры можно представить в виде последовательного применения операторов из `torch.nn`. Также некоторые операторы могут повторяться. Поэтому чаще нейросеть записывается именно вторым способом, с помощью класса-наследника `nn.Module`."
   ]
  },
  {
   "cell_type": "code",
   "execution_count": null,
   "id": "60769951",
   "metadata": {
    "collapsed": false
   },
   "outputs": [],
   "source": [
    "optimizer = torch.optim.SGD(model.parameters(), lr=0.01)\n",
    "print(\n",
    "    f\"Training model with {sum([x[1].numel() for x in model.named_parameters()])} parameters\"\n",
    ")\n",
    "\n",
    "train(model, optimizer)"
   ]
  }
 ],
 "metadata": {
  "kernelspec": {
   "display_name": "Python 3 (ipykernel)",
   "language": "python",
   "name": "python3"
  },
  "language_info": {
   "codemirror_mode": {
    "name": "ipython",
    "version": 3
   },
   "file_extension": ".py",
   "mimetype": "text/x-python",
   "name": "python",
   "nbconvert_exporter": "python",
   "pygments_lexer": "ipython3",
   "version": "3.10.12"
  }
 },
 "nbformat": 4,
 "nbformat_minor": 5
}
